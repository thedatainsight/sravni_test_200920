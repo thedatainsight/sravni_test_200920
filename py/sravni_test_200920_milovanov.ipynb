{
 "cells": [
  {
   "cell_type": "code",
   "execution_count": 1,
   "metadata": {},
   "outputs": [
    {
     "data": {
      "text/html": [
       "<style>#notebook { padding-top:0px !important;margin-left:-30px !important; } .container { width:100% !important; } .end_space { min-height:0px !important; } </style>"
      ],
      "text/plain": [
       "<IPython.core.display.HTML object>"
      ]
     },
     "metadata": {},
     "output_type": "display_data"
    }
   ],
   "source": [
    "from IPython.core.display import display, HTML\n",
    "\n",
    "display(HTML(\n",
    "    '<style>'\n",
    "        '#notebook { padding-top:0px !important;margin-left:-30px !important; } ' \n",
    "        '.container { width:100% !important; } '\n",
    "        '.end_space { min-height:0px !important; } '\n",
    "    '</style>'\n",
    "))"
   ]
  },
  {
   "cell_type": "markdown",
   "metadata": {},
   "source": [
    "### 1. Каким образом в Excel можно сопоставить данные двух таблиц? Напишите примеры формул."
   ]
  },
  {
   "cell_type": "markdown",
   "metadata": {},
   "source": [
    "VLOOKUP, INDEX+MATCH, Power Query Merge (jupyter-notebook + pandas люблю значительно сильнее :)"
   ]
  },
  {
   "cell_type": "markdown",
   "metadata": {},
   "source": [
    "### 2. Вы запускаете рекламную кампанию в Facebook для кредитной карты «Тинькофф Платинум». Какие utm-метки вы будете использовать и зачем? Приведите пример.\n",
    "https://www.sravni.ru/bank/tinkoff-bank/kreditnaja-karta/mastercardworld/tinkoff-platinum/"
   ]
  },
  {
   "cell_type": "markdown",
   "metadata": {},
   "source": [
    "* utm_source - для определения источника трафика\n",
    "* utm_medium - для определения типа трафика\n",
    "* utm_campaign - для определения типа кампании\n",
    "* utm_nooverride - для корректного определения первого касания пользователя в Google Analytics - если пользователь, к примеру, перешёл из FB на сайт, потом зарегистрировался, потом только из письма перешел на сайт по ссылке подтверждения регистрации и заказал карту"
   ]
  },
  {
   "cell_type": "markdown",
   "metadata": {},
   "source": [
    "### 3. Есть таблица с Client Id пользователя и списком событий. Напишите SQL-запрос который выведет список с количеством уникальных событий по каждому пользователю отсортированный по убыванию. "
   ]
  },
  {
   "cell_type": "code",
   "execution_count": 2,
   "metadata": {},
   "outputs": [],
   "source": [
    "import sqlite3\n",
    "import pandas as pd"
   ]
  },
  {
   "cell_type": "code",
   "execution_count": 3,
   "metadata": {},
   "outputs": [],
   "source": [
    "# Путь к тестовой БД с предзаполненными данными:\n",
    "\n",
    "db_file = '../resources/sravni_test.db'"
   ]
  },
  {
   "cell_type": "code",
   "execution_count": 4,
   "metadata": {},
   "outputs": [],
   "source": [
    "def create_connection(db_file):\n",
    "    \"\"\"Создает полключение к базе данных sqlite3\"\"\"\n",
    "    try:\n",
    "        conn = \\\n",
    "            sqlite3.connect(db_file,\n",
    "                            detect_types=sqlite3.PARSE_DECLTYPES |\n",
    "                            sqlite3.PARSE_COLNAMES)\n",
    "        return conn\n",
    "    except Error as e:\n",
    "        print(e)\n",
    "\n",
    "    return None"
   ]
  },
  {
   "cell_type": "code",
   "execution_count": 29,
   "metadata": {},
   "outputs": [
    {
     "data": {
      "text/plain": [
       "<sqlite3.Connection at 0x7f93030ac120>"
      ]
     },
     "execution_count": 29,
     "metadata": {},
     "output_type": "execute_result"
    }
   ],
   "source": [
    "# Проверим соединение\n",
    "\n",
    "create_connection(db_file)"
   ]
  },
  {
   "cell_type": "code",
   "execution_count": 30,
   "metadata": {},
   "outputs": [],
   "source": [
    "def query_db(db_file, sql):\n",
    "    conn = create_connection(db_file, )\n",
    "    cursor = conn.cursor()\n",
    "    query = cursor.execute(sql)\n",
    "    cols = [column[0] for column in query.description]\n",
    "    result = pd.DataFrame(query.fetchall(), columns=cols)\n",
    "    return result"
   ]
  },
  {
   "cell_type": "code",
   "execution_count": 31,
   "metadata": {},
   "outputs": [
    {
     "data": {
      "text/html": [
       "<div>\n",
       "<style scoped>\n",
       "    .dataframe tbody tr th:only-of-type {\n",
       "        vertical-align: middle;\n",
       "    }\n",
       "\n",
       "    .dataframe tbody tr th {\n",
       "        vertical-align: top;\n",
       "    }\n",
       "\n",
       "    .dataframe thead th {\n",
       "        text-align: right;\n",
       "    }\n",
       "</style>\n",
       "<table border=\"1\" class=\"dataframe\">\n",
       "  <thead>\n",
       "    <tr style=\"text-align: right;\">\n",
       "      <th></th>\n",
       "      <th>client_id</th>\n",
       "      <th>event</th>\n",
       "    </tr>\n",
       "  </thead>\n",
       "  <tbody>\n",
       "    <tr>\n",
       "      <th>0</th>\n",
       "      <td>client_6</td>\n",
       "      <td>event_63</td>\n",
       "    </tr>\n",
       "    <tr>\n",
       "      <th>1</th>\n",
       "      <td>client_8</td>\n",
       "      <td>event_14</td>\n",
       "    </tr>\n",
       "    <tr>\n",
       "      <th>2</th>\n",
       "      <td>client_8</td>\n",
       "      <td>event_95</td>\n",
       "    </tr>\n",
       "  </tbody>\n",
       "</table>\n",
       "</div>"
      ],
      "text/plain": [
       "  client_id     event\n",
       "0  client_6  event_63\n",
       "1  client_8  event_14\n",
       "2  client_8  event_95"
      ]
     },
     "execution_count": 31,
     "metadata": {},
     "output_type": "execute_result"
    }
   ],
   "source": [
    "# Посмотрим на формат таблицы:\n",
    "\n",
    "sql = '''\n",
    "    SELECT * FROM events LIMIT 50\n",
    "'''\n",
    "\n",
    "events = query_db(db_file, sql)\n",
    "events.head(3)"
   ]
  },
  {
   "cell_type": "code",
   "execution_count": 32,
   "metadata": {},
   "outputs": [
    {
     "data": {
      "text/html": [
       "<div>\n",
       "<style scoped>\n",
       "    .dataframe tbody tr th:only-of-type {\n",
       "        vertical-align: middle;\n",
       "    }\n",
       "\n",
       "    .dataframe tbody tr th {\n",
       "        vertical-align: top;\n",
       "    }\n",
       "\n",
       "    .dataframe thead th {\n",
       "        text-align: right;\n",
       "    }\n",
       "</style>\n",
       "<table border=\"1\" class=\"dataframe\">\n",
       "  <thead>\n",
       "    <tr style=\"text-align: right;\">\n",
       "      <th></th>\n",
       "      <th>client_id</th>\n",
       "      <th>unique_events_cnt</th>\n",
       "    </tr>\n",
       "  </thead>\n",
       "  <tbody>\n",
       "    <tr>\n",
       "      <th>0</th>\n",
       "      <td>client_7</td>\n",
       "      <td>72</td>\n",
       "    </tr>\n",
       "    <tr>\n",
       "      <th>1</th>\n",
       "      <td>client_5</td>\n",
       "      <td>67</td>\n",
       "    </tr>\n",
       "    <tr>\n",
       "      <th>2</th>\n",
       "      <td>client_1</td>\n",
       "      <td>66</td>\n",
       "    </tr>\n",
       "    <tr>\n",
       "      <th>3</th>\n",
       "      <td>client_4</td>\n",
       "      <td>65</td>\n",
       "    </tr>\n",
       "    <tr>\n",
       "      <th>4</th>\n",
       "      <td>client_6</td>\n",
       "      <td>65</td>\n",
       "    </tr>\n",
       "    <tr>\n",
       "      <th>5</th>\n",
       "      <td>client_9</td>\n",
       "      <td>65</td>\n",
       "    </tr>\n",
       "    <tr>\n",
       "      <th>6</th>\n",
       "      <td>client_3</td>\n",
       "      <td>62</td>\n",
       "    </tr>\n",
       "    <tr>\n",
       "      <th>7</th>\n",
       "      <td>client_0</td>\n",
       "      <td>60</td>\n",
       "    </tr>\n",
       "    <tr>\n",
       "      <th>8</th>\n",
       "      <td>client_2</td>\n",
       "      <td>60</td>\n",
       "    </tr>\n",
       "    <tr>\n",
       "      <th>9</th>\n",
       "      <td>client_8</td>\n",
       "      <td>56</td>\n",
       "    </tr>\n",
       "  </tbody>\n",
       "</table>\n",
       "</div>"
      ],
      "text/plain": [
       "  client_id  unique_events_cnt\n",
       "0  client_7                 72\n",
       "1  client_5                 67\n",
       "2  client_1                 66\n",
       "3  client_4                 65\n",
       "4  client_6                 65\n",
       "5  client_9                 65\n",
       "6  client_3                 62\n",
       "7  client_0                 60\n",
       "8  client_2                 60\n",
       "9  client_8                 56"
      ]
     },
     "execution_count": 32,
     "metadata": {},
     "output_type": "execute_result"
    }
   ],
   "source": [
    "# Cделаем выборку количества уникальных событий по пользователю, отсортируем по убыванию:\n",
    "\n",
    "sql = '''\n",
    " SELECT \n",
    "     client_id,\n",
    "     COUNT(DISTINCT event) AS unique_events_cnt\n",
    "FROM events\n",
    "GROUP BY 1\n",
    "ORDER BY 2 DESC\n",
    "'''\n",
    "query_db(db_file, sql)"
   ]
  },
  {
   "cell_type": "markdown",
   "metadata": {},
   "source": [
    "### 4. У вас есть две таблицы. Первая (t1) - данные по заявкам на Подбор кредита с сайта Сравни.ру, вторая (t2) - выгрузка банка о выдаче кредита. Напишите SQL-запрос, чтобы узнать, какие пользователи получили кредит."
   ]
  },
  {
   "cell_type": "code",
   "execution_count": 11,
   "metadata": {},
   "outputs": [
    {
     "data": {
      "text/html": [
       "<div>\n",
       "<style scoped>\n",
       "    .dataframe tbody tr th:only-of-type {\n",
       "        vertical-align: middle;\n",
       "    }\n",
       "\n",
       "    .dataframe tbody tr th {\n",
       "        vertical-align: top;\n",
       "    }\n",
       "\n",
       "    .dataframe thead th {\n",
       "        text-align: right;\n",
       "    }\n",
       "</style>\n",
       "<table border=\"1\" class=\"dataframe\">\n",
       "  <thead>\n",
       "    <tr style=\"text-align: right;\">\n",
       "      <th></th>\n",
       "      <th>request_id</th>\n",
       "      <th>surname</th>\n",
       "      <th>status</th>\n",
       "    </tr>\n",
       "  </thead>\n",
       "  <tbody>\n",
       "    <tr>\n",
       "      <th>0</th>\n",
       "      <td>4774</td>\n",
       "      <td>Васечкин</td>\n",
       "      <td>Выдан</td>\n",
       "    </tr>\n",
       "    <tr>\n",
       "      <th>1</th>\n",
       "      <td>3345</td>\n",
       "      <td>Сидоров</td>\n",
       "      <td>Выдан</td>\n",
       "    </tr>\n",
       "    <tr>\n",
       "      <th>2</th>\n",
       "      <td>2335</td>\n",
       "      <td>Иванов</td>\n",
       "      <td>Выдан</td>\n",
       "    </tr>\n",
       "  </tbody>\n",
       "</table>\n",
       "</div>"
      ],
      "text/plain": [
       "   request_id   surname status\n",
       "0        4774  Васечкин  Выдан\n",
       "1        3345   Сидоров  Выдан\n",
       "2        2335    Иванов  Выдан"
      ]
     },
     "execution_count": 11,
     "metadata": {},
     "output_type": "execute_result"
    }
   ],
   "source": [
    "sql = '''\n",
    "SELECT\n",
    "    t1.request_id, \n",
    "    t1.surname,\n",
    "    t2.status\n",
    "FROM requests t1\n",
    "JOIN request_result t2 on t1.request_id = t2.request_id\n",
    "WHERE t2.status = 'Выдан'\n",
    "'''\n",
    "query_db(db_file, sql)"
   ]
  },
  {
   "cell_type": "markdown",
   "metadata": {},
   "source": [
    "### 5. У вас есть две таблицы. Первая (orders) - данные по заявкам на Подбор кредита с сайта Сравни.ру, вторая (users) - справочник с контактными данными пользователей. Напишите SQL-запрос, чтобы найти id заявок и фамилии пользователей с самым большим значением в поле amount для каждого из пользователей женского пола. Для удобства по ссылке ниже вы найдёте запрос создающий таблицы с тестовыми данными. *\n",
    "https://docs.google.com/document/d/1O4NEXb9Ge7TBIarPj9DyJg7I4Y6d7CPRV1Y_tv0pKmc/"
   ]
  },
  {
   "cell_type": "code",
   "execution_count": 33,
   "metadata": {},
   "outputs": [
    {
     "data": {
      "text/html": [
       "<div>\n",
       "<style scoped>\n",
       "    .dataframe tbody tr th:only-of-type {\n",
       "        vertical-align: middle;\n",
       "    }\n",
       "\n",
       "    .dataframe tbody tr th {\n",
       "        vertical-align: top;\n",
       "    }\n",
       "\n",
       "    .dataframe thead th {\n",
       "        text-align: right;\n",
       "    }\n",
       "</style>\n",
       "<table border=\"1\" class=\"dataframe\">\n",
       "  <thead>\n",
       "    <tr style=\"text-align: right;\">\n",
       "      <th></th>\n",
       "      <th>id</th>\n",
       "      <th>surname</th>\n",
       "      <th>sex</th>\n",
       "      <th>max_amount</th>\n",
       "    </tr>\n",
       "  </thead>\n",
       "  <tbody>\n",
       "    <tr>\n",
       "      <th>0</th>\n",
       "      <td>6560</td>\n",
       "      <td>Зуева</td>\n",
       "      <td>woman</td>\n",
       "      <td>17500</td>\n",
       "    </tr>\n",
       "  </tbody>\n",
       "</table>\n",
       "</div>"
      ],
      "text/plain": [
       "     id surname    sex  max_amount\n",
       "0  6560   Зуева  woman       17500"
      ]
     },
     "execution_count": 33,
     "metadata": {},
     "output_type": "execute_result"
    }
   ],
   "source": [
    "# Сделаем это через оконную функцию row_number():\n",
    "\n",
    "sql = '''\n",
    "WITH ords AS (\n",
    "SELECT\n",
    "    *,\n",
    "    row_number() OVER (PARTITION BY phone ORDER BY amount DESC) AS r_n\n",
    "FROM orders o)\n",
    "SELECT\n",
    "    id, surname, sex, amount as max_amount\n",
    "FROM ords\n",
    "JOIN users u ON u.phone = ords.phone\n",
    "WHERE ords.r_n = 1 AND u.sex = 'woman'\n",
    "\n",
    "'''\n",
    "query_db(db_file, sql)"
   ]
  },
  {
   "cell_type": "markdown",
   "metadata": {},
   "source": [
    "### 6. По ссылке ниже вы найдёте 2 .xslx файла, в которых содержатся данные об отправках писем и о конверсиях в заказы из этих писем. С помощью Power BI постройте график, на котором по дням отобразите динамику CR из уникального клика в заказ. Отдельным элементом покажите средний CR из уникального клика в заказ за весь выбранный период, а также сделайте 2 фильтра: по дате и по типу продукта. Готовую визуализацию в формате .pbix загрузите на любой файлообменник, а в поле ответа укажите ссылку. *\n",
    "https://drive.google.com/drive/folders/1tai87LBJvMeTLDSETWXa9YDmYYZZYeEQ"
   ]
  },
  {
   "cell_type": "code",
   "execution_count": 13,
   "metadata": {},
   "outputs": [],
   "source": [
    "orders = pd.read_excel('../resources/Orders.xlsx')\n",
    "mails = pd.read_excel('../resources/Mails.xlsx')"
   ]
  },
  {
   "cell_type": "code",
   "execution_count": 14,
   "metadata": {},
   "outputs": [
    {
     "data": {
      "text/html": [
       "<div>\n",
       "<style scoped>\n",
       "    .dataframe tbody tr th:only-of-type {\n",
       "        vertical-align: middle;\n",
       "    }\n",
       "\n",
       "    .dataframe tbody tr th {\n",
       "        vertical-align: top;\n",
       "    }\n",
       "\n",
       "    .dataframe thead th {\n",
       "        text-align: right;\n",
       "    }\n",
       "</style>\n",
       "<table border=\"1\" class=\"dataframe\">\n",
       "  <thead>\n",
       "    <tr style=\"text-align: right;\">\n",
       "      <th></th>\n",
       "      <th>date</th>\n",
       "      <th>product</th>\n",
       "      <th>orders</th>\n",
       "      <th>revenue</th>\n",
       "    </tr>\n",
       "  </thead>\n",
       "  <tbody>\n",
       "    <tr>\n",
       "      <th>0</th>\n",
       "      <td>2019-11-01</td>\n",
       "      <td>Партнёрский продукт</td>\n",
       "      <td>0</td>\n",
       "      <td>0.00</td>\n",
       "    </tr>\n",
       "    <tr>\n",
       "      <th>1</th>\n",
       "      <td>2019-11-01</td>\n",
       "      <td>Партнёрский продукт</td>\n",
       "      <td>60</td>\n",
       "      <td>343.06</td>\n",
       "    </tr>\n",
       "    <tr>\n",
       "      <th>2</th>\n",
       "      <td>2019-11-01</td>\n",
       "      <td>Страховой продукт</td>\n",
       "      <td>36</td>\n",
       "      <td>4089.60</td>\n",
       "    </tr>\n",
       "  </tbody>\n",
       "</table>\n",
       "</div>"
      ],
      "text/plain": [
       "        date              product  orders  revenue\n",
       "0 2019-11-01  Партнёрский продукт       0     0.00\n",
       "1 2019-11-01  Партнёрский продукт      60   343.06\n",
       "2 2019-11-01    Страховой продукт      36  4089.60"
      ]
     },
     "execution_count": 14,
     "metadata": {},
     "output_type": "execute_result"
    }
   ],
   "source": [
    "orders.head(3)"
   ]
  },
  {
   "cell_type": "code",
   "execution_count": 15,
   "metadata": {},
   "outputs": [
    {
     "data": {
      "text/html": [
       "<div>\n",
       "<style scoped>\n",
       "    .dataframe tbody tr th:only-of-type {\n",
       "        vertical-align: middle;\n",
       "    }\n",
       "\n",
       "    .dataframe tbody tr th {\n",
       "        vertical-align: top;\n",
       "    }\n",
       "\n",
       "    .dataframe thead th {\n",
       "        text-align: right;\n",
       "    }\n",
       "</style>\n",
       "<table border=\"1\" class=\"dataframe\">\n",
       "  <thead>\n",
       "    <tr style=\"text-align: right;\">\n",
       "      <th></th>\n",
       "      <th>date</th>\n",
       "      <th>product</th>\n",
       "      <th>sent</th>\n",
       "      <th>opens</th>\n",
       "      <th>uniqueOpens</th>\n",
       "      <th>clicks</th>\n",
       "      <th>uniqueClicks</th>\n",
       "      <th>unsubscribes</th>\n",
       "    </tr>\n",
       "  </thead>\n",
       "  <tbody>\n",
       "    <tr>\n",
       "      <th>0</th>\n",
       "      <td>2019-11-01</td>\n",
       "      <td>Финансовый продукт</td>\n",
       "      <td>209</td>\n",
       "      <td>225</td>\n",
       "      <td>97</td>\n",
       "      <td>71</td>\n",
       "      <td>49</td>\n",
       "      <td>1</td>\n",
       "    </tr>\n",
       "    <tr>\n",
       "      <th>1</th>\n",
       "      <td>2019-11-01</td>\n",
       "      <td>Финансовый продукт</td>\n",
       "      <td>1010</td>\n",
       "      <td>651</td>\n",
       "      <td>282</td>\n",
       "      <td>135</td>\n",
       "      <td>95</td>\n",
       "      <td>1</td>\n",
       "    </tr>\n",
       "    <tr>\n",
       "      <th>2</th>\n",
       "      <td>2019-11-01</td>\n",
       "      <td>Финансовый продукт</td>\n",
       "      <td>46</td>\n",
       "      <td>71</td>\n",
       "      <td>22</td>\n",
       "      <td>26</td>\n",
       "      <td>15</td>\n",
       "      <td>0</td>\n",
       "    </tr>\n",
       "  </tbody>\n",
       "</table>\n",
       "</div>"
      ],
      "text/plain": [
       "        date             product  sent  opens  uniqueOpens  clicks  \\\n",
       "0 2019-11-01  Финансовый продукт   209    225           97      71   \n",
       "1 2019-11-01  Финансовый продукт  1010    651          282     135   \n",
       "2 2019-11-01  Финансовый продукт    46     71           22      26   \n",
       "\n",
       "   uniqueClicks  unsubscribes  \n",
       "0            49             1  \n",
       "1            95             1  \n",
       "2            15             0  "
      ]
     },
     "execution_count": 15,
     "metadata": {},
     "output_type": "execute_result"
    }
   ],
   "source": [
    "mails.head(3)"
   ]
  },
  {
   "cell_type": "code",
   "execution_count": 16,
   "metadata": {},
   "outputs": [],
   "source": [
    "# Сгруппируем orders по product - выше видим, что уникальные продукты представлены лишь типом, а не уникальным названием\n",
    "\n",
    "orders_gr = orders.groupby(by=['date', 'product']).agg({'orders':'sum', 'revenue':'sum'}).reset_index()"
   ]
  },
  {
   "cell_type": "code",
   "execution_count": 17,
   "metadata": {},
   "outputs": [],
   "source": [
    "# Сделаем аналогично для mails:\n",
    "\n",
    "mails_gr = mails.groupby(by=['date', 'product']).agg({'sent':'sum', 'opens':'sum', 'uniqueOpens':'sum',\n",
    "                                          'clicks':'sum', 'uniqueClicks':'sum',\n",
    "                                          'unsubscribes': 'sum'}).reset_index()"
   ]
  },
  {
   "cell_type": "code",
   "execution_count": 18,
   "metadata": {},
   "outputs": [],
   "source": [
    "# Соберем mails и orders в один датасет:\n",
    "\n",
    "res = pd.merge(orders_gr, mails_gr, on=['date', 'product'])"
   ]
  },
  {
   "cell_type": "code",
   "execution_count": 19,
   "metadata": {},
   "outputs": [],
   "source": [
    "# Рассчитаем метрику CR:\n",
    "\n",
    "res['CR'] = round(res['orders'] / res['uniqueClicks'], 2)"
   ]
  },
  {
   "cell_type": "code",
   "execution_count": 20,
   "metadata": {},
   "outputs": [],
   "source": [
    "# Сохраним датасет в xlsx для дальнейшего построения дашборда в Power BI Web\n",
    "\n",
    "res.to_excel('data_for_dash.xlsx', index=False)"
   ]
  },
  {
   "cell_type": "markdown",
   "metadata": {},
   "source": [
    "#### Получившийся график так же можно посмотреть по ссылке: \n",
    "https://app.powerbi.com/groups/me/reports/4e5d31c2-02cc-4501-a06a-5e08de602174?ctid=7f642a40-3476-4c35-96c8-909a073928cd"
   ]
  },
  {
   "cell_type": "code",
   "execution_count": 27,
   "metadata": {},
   "outputs": [
    {
     "data": {
      "text/html": [
       "\n",
       "        <iframe\n",
       "            width=\"1140\"\n",
       "            height=\"540\"\n",
       "            src=\"https://app.powerbi.com/reportEmbed?reportId=4e5d31c2-02cc-4501-a06a-5e08de602174&autoAuth=true&ctid=7f642a40-3476-4c35-96c8-909a073928cd&config=eyJjbHVzdGVyVXJsIjoiaHR0cHM6Ly93YWJpLXdlc3QtZXVyb3BlLXJlZGlyZWN0LmFuYWx5c2lzLndpbmRvd3MubmV0LyJ9\"\n",
       "            frameborder=\"0\"\n",
       "            allowfullscreen\n",
       "        ></iframe>\n",
       "        "
      ],
      "text/plain": [
       "<IPython.lib.display.IFrame at 0x7f93029f7f70>"
      ]
     },
     "execution_count": 27,
     "metadata": {},
     "output_type": "execute_result"
    }
   ],
   "source": [
    "# Встрою получившийся график как iframe, т.к. пользуюсь Mac OS и сейчас нет возможности экспорта в .pbix:\n",
    "# К слову, прекрасно работает и здесь:)\n",
    "\n",
    "from IPython.display import IFrame\n",
    "IFrame(\"https://app.powerbi.com/reportEmbed?reportId=4e5d31c2-02cc-4501-a06a-5e08de602174&autoAuth=true&ctid=7f642a40-3476-4c35-96c8-909a073928cd&config=eyJjbHVzdGVyVXJsIjoiaHR0cHM6Ly93YWJpLXdlc3QtZXVyb3BlLXJlZGlyZWN0LmFuYWx5c2lzLndpbmRvd3MubmV0LyJ9\",\n",
    "      width=1140, height=540)"
   ]
  },
  {
   "cell_type": "markdown",
   "metadata": {},
   "source": [
    "### 7. Напишите скрипт на Python, получающий данные из HTML таблицы с данными по рождаемости в России (ссылка ниже) и визуализируйте их на графике. Готовый файл в формате .ipynb загрузите на любой файлообменник, а в поле ответа укажите ссылку. *\n",
    "https://worldtable.info/gosudarstvo/tablica-rozhdaemosti-po-godam-rossija.html"
   ]
  },
  {
   "cell_type": "code",
   "execution_count": 23,
   "metadata": {},
   "outputs": [],
   "source": [
    "import bs4 as bs\n",
    "import urllib.request\n",
    "import pandas as pd\n",
    "\n",
    "# Откроем адрес и спарсим элемент table с помощью bs4:\n",
    "\n",
    "source = urllib.request.urlopen('https://worldtable.info/gosudarstvo/tablica-rozhdaemosti-po-godam-rossija.html').read()\n",
    "soup = bs.BeautifulSoup(source,'html')\n",
    "birth_table = soup.find('table')\n",
    "rows = birth_table.find_all('tr')\n",
    "\n",
    "# Соберем элементы таблицы в список:\n",
    "\n",
    "l = []\n",
    "for tr in rows:\n",
    "    td = tr.find_all('td')\n",
    "    row = [tr.text for tr in td]\n",
    "    l.append(row)"
   ]
  },
  {
   "cell_type": "code",
   "execution_count": 24,
   "metadata": {},
   "outputs": [
    {
     "data": {
      "text/html": [
       "<div>\n",
       "<style scoped>\n",
       "    .dataframe tbody tr th:only-of-type {\n",
       "        vertical-align: middle;\n",
       "    }\n",
       "\n",
       "    .dataframe tbody tr th {\n",
       "        vertical-align: top;\n",
       "    }\n",
       "\n",
       "    .dataframe thead th {\n",
       "        text-align: right;\n",
       "    }\n",
       "</style>\n",
       "<table border=\"1\" class=\"dataframe\">\n",
       "  <thead>\n",
       "    <tr style=\"text-align: right;\">\n",
       "      <th></th>\n",
       "      <th>Год</th>\n",
       "      <th>Количество родившихся чел.</th>\n",
       "    </tr>\n",
       "  </thead>\n",
       "  <tbody>\n",
       "    <tr>\n",
       "      <th>58</th>\n",
       "      <td>2017</td>\n",
       "      <td>1689884.0</td>\n",
       "    </tr>\n",
       "    <tr>\n",
       "      <th>59</th>\n",
       "      <td>2018</td>\n",
       "      <td>1599316.0</td>\n",
       "    </tr>\n",
       "    <tr>\n",
       "      <th>60</th>\n",
       "      <td>2019</td>\n",
       "      <td>1484517.0</td>\n",
       "    </tr>\n",
       "  </tbody>\n",
       "</table>\n",
       "</div>"
      ],
      "text/plain": [
       "     Год  Количество родившихся чел.\n",
       "58  2017                   1689884.0\n",
       "59  2018                   1599316.0\n",
       "60  2019                   1484517.0"
      ]
     },
     "execution_count": 24,
     "metadata": {},
     "output_type": "execute_result"
    }
   ],
   "source": [
    "# Преобразуем полученный список в датафрейм:\n",
    "\n",
    "birth_df = pd.DataFrame(l[1:], columns=l[0])\n",
    "birth_df['Количество родившихся чел.'] = birth_df['Количество родившихся чел.'].apply(lambda x: float(x.replace(' ', '')))\n",
    "birth_df.tail(3)"
   ]
  },
  {
   "cell_type": "code",
   "execution_count": 26,
   "metadata": {},
   "outputs": [
    {
     "data": {
      "image/png": "[encoded data removed]",
      "text/plain": [
       "<Figure size 2160x720 with 1 Axes>"
      ]
     },
     "metadata": {
      "needs_background": "light"
     },
     "output_type": "display_data"
    }
   ],
   "source": [
    "import seaborn as sns\n",
    "import matplotlib.pyplot as plt\n",
    "import warnings\n",
    "warnings.filterwarnings('ignore')\n",
    "\n",
    "# Визуализируем полученный датафрейм с помощью seaborn:\n",
    "\n",
    "plt.figure(figsize=(30,10))\n",
    "g = sns.barplot(x='Год', y='Количество родившихся чел.', data=birth_df, palette='crest')\n",
    "ylabels = ['{:,.0f}'.format(y) + 'K' for y in g.get_yticks()/1000]\n",
    "g.set_yticklabels(ylabels)\n",
    "plt.show()"
   ]
  },
  {
   "cell_type": "code",
   "execution_count": null,
   "metadata": {},
   "outputs": [],
   "source": []
  }
 ],
 "metadata": {
  "kernelspec": {
   "display_name": "Python 3",
   "language": "python",
   "name": "python3"
  },
  "language_info": {
   "codemirror_mode": {
    "name": "ipython",
    "version": 3
   },
   "file_extension": ".py",
   "mimetype": "text/x-python",
   "name": "python",
   "nbconvert_exporter": "python",
   "pygments_lexer": "ipython3",
   "version": "3.8.0"
  }
 },
 "nbformat": 4,
 "nbformat_minor": 4
}
